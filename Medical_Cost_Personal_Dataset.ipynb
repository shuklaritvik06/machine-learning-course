{
  "nbformat": 4,
  "nbformat_minor": 0,
  "metadata": {
    "colab": {
      "provenance": []
    },
    "kernelspec": {
      "name": "python3",
      "display_name": "Python 3"
    },
    "language_info": {
      "name": "python"
    }
  },
  "cells": [
    {
      "cell_type": "code",
      "execution_count": 78,
      "metadata": {
        "colab": {
          "base_uri": "https://localhost:8080/",
          "height": 73
        },
        "id": "EzczHMpMDGFn",
        "outputId": "cc74d9fa-46ea-44e4-f777-ae07b87302da"
      },
      "outputs": [
        {
          "output_type": "display_data",
          "data": {
            "text/plain": [
              "<IPython.core.display.HTML object>"
            ],
            "text/html": [
              "\n",
              "     <input type=\"file\" id=\"files-b9c6b981-674b-4305-ad1f-49929b3e1113\" name=\"files[]\" multiple disabled\n",
              "        style=\"border:none\" />\n",
              "     <output id=\"result-b9c6b981-674b-4305-ad1f-49929b3e1113\">\n",
              "      Upload widget is only available when the cell has been executed in the\n",
              "      current browser session. Please rerun this cell to enable.\n",
              "      </output>\n",
              "      <script>// Copyright 2017 Google LLC\n",
              "//\n",
              "// Licensed under the Apache License, Version 2.0 (the \"License\");\n",
              "// you may not use this file except in compliance with the License.\n",
              "// You may obtain a copy of the License at\n",
              "//\n",
              "//      http://www.apache.org/licenses/LICENSE-2.0\n",
              "//\n",
              "// Unless required by applicable law or agreed to in writing, software\n",
              "// distributed under the License is distributed on an \"AS IS\" BASIS,\n",
              "// WITHOUT WARRANTIES OR CONDITIONS OF ANY KIND, either express or implied.\n",
              "// See the License for the specific language governing permissions and\n",
              "// limitations under the License.\n",
              "\n",
              "/**\n",
              " * @fileoverview Helpers for google.colab Python module.\n",
              " */\n",
              "(function(scope) {\n",
              "function span(text, styleAttributes = {}) {\n",
              "  const element = document.createElement('span');\n",
              "  element.textContent = text;\n",
              "  for (const key of Object.keys(styleAttributes)) {\n",
              "    element.style[key] = styleAttributes[key];\n",
              "  }\n",
              "  return element;\n",
              "}\n",
              "\n",
              "// Max number of bytes which will be uploaded at a time.\n",
              "const MAX_PAYLOAD_SIZE = 100 * 1024;\n",
              "\n",
              "function _uploadFiles(inputId, outputId) {\n",
              "  const steps = uploadFilesStep(inputId, outputId);\n",
              "  const outputElement = document.getElementById(outputId);\n",
              "  // Cache steps on the outputElement to make it available for the next call\n",
              "  // to uploadFilesContinue from Python.\n",
              "  outputElement.steps = steps;\n",
              "\n",
              "  return _uploadFilesContinue(outputId);\n",
              "}\n",
              "\n",
              "// This is roughly an async generator (not supported in the browser yet),\n",
              "// where there are multiple asynchronous steps and the Python side is going\n",
              "// to poll for completion of each step.\n",
              "// This uses a Promise to block the python side on completion of each step,\n",
              "// then passes the result of the previous step as the input to the next step.\n",
              "function _uploadFilesContinue(outputId) {\n",
              "  const outputElement = document.getElementById(outputId);\n",
              "  const steps = outputElement.steps;\n",
              "\n",
              "  const next = steps.next(outputElement.lastPromiseValue);\n",
              "  return Promise.resolve(next.value.promise).then((value) => {\n",
              "    // Cache the last promise value to make it available to the next\n",
              "    // step of the generator.\n",
              "    outputElement.lastPromiseValue = value;\n",
              "    return next.value.response;\n",
              "  });\n",
              "}\n",
              "\n",
              "/**\n",
              " * Generator function which is called between each async step of the upload\n",
              " * process.\n",
              " * @param {string} inputId Element ID of the input file picker element.\n",
              " * @param {string} outputId Element ID of the output display.\n",
              " * @return {!Iterable<!Object>} Iterable of next steps.\n",
              " */\n",
              "function* uploadFilesStep(inputId, outputId) {\n",
              "  const inputElement = document.getElementById(inputId);\n",
              "  inputElement.disabled = false;\n",
              "\n",
              "  const outputElement = document.getElementById(outputId);\n",
              "  outputElement.innerHTML = '';\n",
              "\n",
              "  const pickedPromise = new Promise((resolve) => {\n",
              "    inputElement.addEventListener('change', (e) => {\n",
              "      resolve(e.target.files);\n",
              "    });\n",
              "  });\n",
              "\n",
              "  const cancel = document.createElement('button');\n",
              "  inputElement.parentElement.appendChild(cancel);\n",
              "  cancel.textContent = 'Cancel upload';\n",
              "  const cancelPromise = new Promise((resolve) => {\n",
              "    cancel.onclick = () => {\n",
              "      resolve(null);\n",
              "    };\n",
              "  });\n",
              "\n",
              "  // Wait for the user to pick the files.\n",
              "  const files = yield {\n",
              "    promise: Promise.race([pickedPromise, cancelPromise]),\n",
              "    response: {\n",
              "      action: 'starting',\n",
              "    }\n",
              "  };\n",
              "\n",
              "  cancel.remove();\n",
              "\n",
              "  // Disable the input element since further picks are not allowed.\n",
              "  inputElement.disabled = true;\n",
              "\n",
              "  if (!files) {\n",
              "    return {\n",
              "      response: {\n",
              "        action: 'complete',\n",
              "      }\n",
              "    };\n",
              "  }\n",
              "\n",
              "  for (const file of files) {\n",
              "    const li = document.createElement('li');\n",
              "    li.append(span(file.name, {fontWeight: 'bold'}));\n",
              "    li.append(span(\n",
              "        `(${file.type || 'n/a'}) - ${file.size} bytes, ` +\n",
              "        `last modified: ${\n",
              "            file.lastModifiedDate ? file.lastModifiedDate.toLocaleDateString() :\n",
              "                                    'n/a'} - `));\n",
              "    const percent = span('0% done');\n",
              "    li.appendChild(percent);\n",
              "\n",
              "    outputElement.appendChild(li);\n",
              "\n",
              "    const fileDataPromise = new Promise((resolve) => {\n",
              "      const reader = new FileReader();\n",
              "      reader.onload = (e) => {\n",
              "        resolve(e.target.result);\n",
              "      };\n",
              "      reader.readAsArrayBuffer(file);\n",
              "    });\n",
              "    // Wait for the data to be ready.\n",
              "    let fileData = yield {\n",
              "      promise: fileDataPromise,\n",
              "      response: {\n",
              "        action: 'continue',\n",
              "      }\n",
              "    };\n",
              "\n",
              "    // Use a chunked sending to avoid message size limits. See b/62115660.\n",
              "    let position = 0;\n",
              "    do {\n",
              "      const length = Math.min(fileData.byteLength - position, MAX_PAYLOAD_SIZE);\n",
              "      const chunk = new Uint8Array(fileData, position, length);\n",
              "      position += length;\n",
              "\n",
              "      const base64 = btoa(String.fromCharCode.apply(null, chunk));\n",
              "      yield {\n",
              "        response: {\n",
              "          action: 'append',\n",
              "          file: file.name,\n",
              "          data: base64,\n",
              "        },\n",
              "      };\n",
              "\n",
              "      let percentDone = fileData.byteLength === 0 ?\n",
              "          100 :\n",
              "          Math.round((position / fileData.byteLength) * 100);\n",
              "      percent.textContent = `${percentDone}% done`;\n",
              "\n",
              "    } while (position < fileData.byteLength);\n",
              "  }\n",
              "\n",
              "  // All done.\n",
              "  yield {\n",
              "    response: {\n",
              "      action: 'complete',\n",
              "    }\n",
              "  };\n",
              "}\n",
              "\n",
              "scope.google = scope.google || {};\n",
              "scope.google.colab = scope.google.colab || {};\n",
              "scope.google.colab._files = {\n",
              "  _uploadFiles,\n",
              "  _uploadFilesContinue,\n",
              "};\n",
              "})(self);\n",
              "</script> "
            ]
          },
          "metadata": {}
        },
        {
          "output_type": "stream",
          "name": "stdout",
          "text": [
            "Saving kaggle.json to kaggle.json\n"
          ]
        }
      ],
      "source": [
        "from google.colab import files\n",
        "uploaded = files.upload()\n",
        "!rm -rf ~/.kaggle\n",
        "!mkdir -p ~/.kaggle\n",
        "!mv /content/kaggle.json ~/.kaggle\n"
      ]
    },
    {
      "cell_type": "code",
      "source": [
        "!rm -rf /content/*.json"
      ],
      "metadata": {
        "id": "1eSTkwfgDdzn"
      },
      "execution_count": 79,
      "outputs": []
    },
    {
      "cell_type": "code",
      "source": [
        "!chmod 600 /root/.kaggle/kaggle.json\n",
        "!kaggle datasets download -d mirichoi0218/insurance --force"
      ],
      "metadata": {
        "colab": {
          "base_uri": "https://localhost:8080/"
        },
        "id": "2ma4us1jESaE",
        "outputId": "9feb6731-9652-41e0-edbb-f7abb997dc08"
      },
      "execution_count": 80,
      "outputs": [
        {
          "output_type": "stream",
          "name": "stdout",
          "text": [
            "Downloading insurance.zip to /content\n",
            "\r  0% 0.00/16.0k [00:00<?, ?B/s]\n",
            "\r100% 16.0k/16.0k [00:00<00:00, 26.9MB/s]\n"
          ]
        }
      ]
    },
    {
      "cell_type": "code",
      "source": [
        "from zipfile import ZipFile\n",
        "with ZipFile(\"/content/insurance.zip\", \"r\") as zipobj:\n",
        "  zipobj.extractall()"
      ],
      "metadata": {
        "id": "p0AaeJpUEUot"
      },
      "execution_count": 81,
      "outputs": []
    },
    {
      "cell_type": "code",
      "source": [
        "import pandas as pd\n",
        "import numpy as np"
      ],
      "metadata": {
        "id": "N8xWGzm7Fm0x"
      },
      "execution_count": 82,
      "outputs": []
    },
    {
      "cell_type": "code",
      "source": [
        "dataset = pd.read_csv(\"insurance.csv\")\n",
        "X = dataset.iloc[:,:-1].values\n",
        "y = dataset.iloc[:, -1].values"
      ],
      "metadata": {
        "id": "mV73o2F1Fm3Z"
      },
      "execution_count": 83,
      "outputs": []
    },
    {
      "cell_type": "code",
      "source": [
        "print(X)\n",
        "print(y)"
      ],
      "metadata": {
        "colab": {
          "base_uri": "https://localhost:8080/"
        },
        "id": "iP1xyWztFm_I",
        "outputId": "d1e5bbec-f178-460e-eb93-c09af001ec1f"
      },
      "execution_count": 84,
      "outputs": [
        {
          "output_type": "stream",
          "name": "stdout",
          "text": [
            "[[19 'female' 27.9 0 'yes' 'southwest']\n",
            " [18 'male' 33.77 1 'no' 'southeast']\n",
            " [28 'male' 33.0 3 'no' 'southeast']\n",
            " ...\n",
            " [18 'female' 36.85 0 'no' 'southeast']\n",
            " [21 'female' 25.8 0 'no' 'southwest']\n",
            " [61 'female' 29.07 0 'yes' 'northwest']]\n",
            "[16884.92  1725.55  4449.46 ...  1629.83  2007.94 29141.36]\n"
          ]
        }
      ]
    },
    {
      "cell_type": "code",
      "source": [
        "from sklearn.compose import ColumnTransformer\n",
        "from sklearn.preprocessing import OneHotEncoder\n",
        "ct = ColumnTransformer(transformers=[(\"encoder\", OneHotEncoder(), [1,4,5])], remainder=\"passthrough\")\n",
        "ct.fit(X)\n",
        "feature_names=ct.get_feature_names_out()\n",
        "X = np.array(ct.transform(X))"
      ],
      "metadata": {
        "id": "FP78KhOtEhdX"
      },
      "execution_count": 85,
      "outputs": []
    },
    {
      "cell_type": "code",
      "source": [
        "print(feature_names)"
      ],
      "metadata": {
        "colab": {
          "base_uri": "https://localhost:8080/"
        },
        "id": "I-khK_HIPPN7",
        "outputId": "4d92fb48-6db6-40ee-beb0-1ba9ba2dd4d2"
      },
      "execution_count": 86,
      "outputs": [
        {
          "output_type": "stream",
          "name": "stdout",
          "text": [
            "['encoder__x1_female' 'encoder__x1_male' 'encoder__x4_no'\n",
            " 'encoder__x4_yes' 'encoder__x5_northeast' 'encoder__x5_northwest'\n",
            " 'encoder__x5_southeast' 'encoder__x5_southwest' 'remainder__x0'\n",
            " 'remainder__x2' 'remainder__x3']\n"
          ]
        }
      ]
    },
    {
      "cell_type": "code",
      "source": [
        "print(X[0])"
      ],
      "metadata": {
        "colab": {
          "base_uri": "https://localhost:8080/"
        },
        "id": "IZcmXXKQPRwu",
        "outputId": "ff0eebe0-1da7-49bb-d04c-6f9cfff85fae"
      },
      "execution_count": 87,
      "outputs": [
        {
          "output_type": "stream",
          "name": "stdout",
          "text": [
            "[1.0 0.0 0.0 1.0 0.0 0.0 0.0 1.0 19 27.9 0]\n"
          ]
        }
      ]
    },
    {
      "cell_type": "code",
      "source": [
        "from sklearn.model_selection import train_test_split\n",
        "X_train, X_test, y_train, y_test = train_test_split(X,y,test_size=0.2, random_state=1)"
      ],
      "metadata": {
        "id": "07p-G2sYGGmI"
      },
      "execution_count": 88,
      "outputs": []
    },
    {
      "cell_type": "code",
      "source": [
        "print(X_train)\n",
        "print(X_test)"
      ],
      "metadata": {
        "colab": {
          "base_uri": "https://localhost:8080/"
        },
        "id": "iBER-u5zGGn9",
        "outputId": "032d6545-3eda-4527-d98f-656e3bd4f18e"
      },
      "execution_count": 89,
      "outputs": [
        {
          "output_type": "stream",
          "name": "stdout",
          "text": [
            "[[1.0 0.0 1.0 ... 53 26.6 0]\n",
            " [0.0 1.0 1.0 ... 53 21.4 1]\n",
            " [0.0 1.0 1.0 ... 18 37.29 0]\n",
            " ...\n",
            " [1.0 0.0 0.0 ... 51 34.96 2]\n",
            " [1.0 0.0 0.0 ... 40 22.22 2]\n",
            " [0.0 1.0 1.0 ... 57 27.94 1]]\n",
            "[[0.0 1.0 1.0 ... 19 35.53 0]\n",
            " [0.0 1.0 1.0 ... 57 31.54 0]\n",
            " [0.0 1.0 1.0 ... 51 37.0 0]\n",
            " ...\n",
            " [0.0 1.0 0.0 ... 47 38.94 2]\n",
            " [1.0 0.0 1.0 ... 19 36.575 0]\n",
            " [1.0 0.0 1.0 ... 35 26.125 0]]\n"
          ]
        }
      ]
    },
    {
      "cell_type": "code",
      "source": [
        "from sklearn.linear_model import LinearRegression\n",
        "regressor = LinearRegression()\n",
        "regressor.fit(X_train, y_train)"
      ],
      "metadata": {
        "colab": {
          "base_uri": "https://localhost:8080/",
          "height": 75
        },
        "id": "1Aj8QapQGGq2",
        "outputId": "8fdb292b-5be8-47a7-e63e-170435f516f8"
      },
      "execution_count": 90,
      "outputs": [
        {
          "output_type": "execute_result",
          "data": {
            "text/plain": [
              "LinearRegression()"
            ],
            "text/html": [
              "<style>#sk-container-id-3 {color: black;background-color: white;}#sk-container-id-3 pre{padding: 0;}#sk-container-id-3 div.sk-toggleable {background-color: white;}#sk-container-id-3 label.sk-toggleable__label {cursor: pointer;display: block;width: 100%;margin-bottom: 0;padding: 0.3em;box-sizing: border-box;text-align: center;}#sk-container-id-3 label.sk-toggleable__label-arrow:before {content: \"▸\";float: left;margin-right: 0.25em;color: #696969;}#sk-container-id-3 label.sk-toggleable__label-arrow:hover:before {color: black;}#sk-container-id-3 div.sk-estimator:hover label.sk-toggleable__label-arrow:before {color: black;}#sk-container-id-3 div.sk-toggleable__content {max-height: 0;max-width: 0;overflow: hidden;text-align: left;background-color: #f0f8ff;}#sk-container-id-3 div.sk-toggleable__content pre {margin: 0.2em;color: black;border-radius: 0.25em;background-color: #f0f8ff;}#sk-container-id-3 input.sk-toggleable__control:checked~div.sk-toggleable__content {max-height: 200px;max-width: 100%;overflow: auto;}#sk-container-id-3 input.sk-toggleable__control:checked~label.sk-toggleable__label-arrow:before {content: \"▾\";}#sk-container-id-3 div.sk-estimator input.sk-toggleable__control:checked~label.sk-toggleable__label {background-color: #d4ebff;}#sk-container-id-3 div.sk-label input.sk-toggleable__control:checked~label.sk-toggleable__label {background-color: #d4ebff;}#sk-container-id-3 input.sk-hidden--visually {border: 0;clip: rect(1px 1px 1px 1px);clip: rect(1px, 1px, 1px, 1px);height: 1px;margin: -1px;overflow: hidden;padding: 0;position: absolute;width: 1px;}#sk-container-id-3 div.sk-estimator {font-family: monospace;background-color: #f0f8ff;border: 1px dotted black;border-radius: 0.25em;box-sizing: border-box;margin-bottom: 0.5em;}#sk-container-id-3 div.sk-estimator:hover {background-color: #d4ebff;}#sk-container-id-3 div.sk-parallel-item::after {content: \"\";width: 100%;border-bottom: 1px solid gray;flex-grow: 1;}#sk-container-id-3 div.sk-label:hover label.sk-toggleable__label {background-color: #d4ebff;}#sk-container-id-3 div.sk-serial::before {content: \"\";position: absolute;border-left: 1px solid gray;box-sizing: border-box;top: 0;bottom: 0;left: 50%;z-index: 0;}#sk-container-id-3 div.sk-serial {display: flex;flex-direction: column;align-items: center;background-color: white;padding-right: 0.2em;padding-left: 0.2em;position: relative;}#sk-container-id-3 div.sk-item {position: relative;z-index: 1;}#sk-container-id-3 div.sk-parallel {display: flex;align-items: stretch;justify-content: center;background-color: white;position: relative;}#sk-container-id-3 div.sk-item::before, #sk-container-id-3 div.sk-parallel-item::before {content: \"\";position: absolute;border-left: 1px solid gray;box-sizing: border-box;top: 0;bottom: 0;left: 50%;z-index: -1;}#sk-container-id-3 div.sk-parallel-item {display: flex;flex-direction: column;z-index: 1;position: relative;background-color: white;}#sk-container-id-3 div.sk-parallel-item:first-child::after {align-self: flex-end;width: 50%;}#sk-container-id-3 div.sk-parallel-item:last-child::after {align-self: flex-start;width: 50%;}#sk-container-id-3 div.sk-parallel-item:only-child::after {width: 0;}#sk-container-id-3 div.sk-dashed-wrapped {border: 1px dashed gray;margin: 0 0.4em 0.5em 0.4em;box-sizing: border-box;padding-bottom: 0.4em;background-color: white;}#sk-container-id-3 div.sk-label label {font-family: monospace;font-weight: bold;display: inline-block;line-height: 1.2em;}#sk-container-id-3 div.sk-label-container {text-align: center;}#sk-container-id-3 div.sk-container {/* jupyter's `normalize.less` sets `[hidden] { display: none; }` but bootstrap.min.css set `[hidden] { display: none !important; }` so we also need the `!important` here to be able to override the default hidden behavior on the sphinx rendered scikit-learn.org. See: https://github.com/scikit-learn/scikit-learn/issues/21755 */display: inline-block !important;position: relative;}#sk-container-id-3 div.sk-text-repr-fallback {display: none;}</style><div id=\"sk-container-id-3\" class=\"sk-top-container\"><div class=\"sk-text-repr-fallback\"><pre>LinearRegression()</pre><b>In a Jupyter environment, please rerun this cell to show the HTML representation or trust the notebook. <br />On GitHub, the HTML representation is unable to render, please try loading this page with nbviewer.org.</b></div><div class=\"sk-container\" hidden><div class=\"sk-item\"><div class=\"sk-estimator sk-toggleable\"><input class=\"sk-toggleable__control sk-hidden--visually\" id=\"sk-estimator-id-3\" type=\"checkbox\" checked><label for=\"sk-estimator-id-3\" class=\"sk-toggleable__label sk-toggleable__label-arrow\">LinearRegression</label><div class=\"sk-toggleable__content\"><pre>LinearRegression()</pre></div></div></div></div></div>"
            ]
          },
          "metadata": {},
          "execution_count": 90
        }
      ]
    },
    {
      "cell_type": "code",
      "source": [
        "y_pred = regressor.predict(X_test)\n",
        "np.set_printoptions(precision=2)\n",
        "y_pred_reshaped = y_pred.reshape(len(y_pred), 1)\n",
        "y_test_reshaped = y_test.reshape(len(y_pred), 1)\n",
        "print(np.concatenate((y_test_reshaped, y_pred_reshaped), 1))"
      ],
      "metadata": {
        "colab": {
          "base_uri": "https://localhost:8080/"
        },
        "id": "xMGatC5VHN_l",
        "outputId": "c1c16026-7892-48e7-d6a3-42711aa7bdfd"
      },
      "execution_count": 91,
      "outputs": [
        {
          "output_type": "stream",
          "name": "stdout",
          "text": [
            "[[ 1646.43  4383.68]\n",
            " [11353.23 12885.04]\n",
            " [ 8798.59 12589.22]\n",
            " [10381.48 13286.23]\n",
            " [ 2103.08   544.73]\n",
            " [38746.36 32117.58]\n",
            " [ 9304.7  12919.04]\n",
            " [11658.12 12318.62]\n",
            " [ 3070.81  3784.29]\n",
            " [19539.24 29468.46]\n",
            " [12629.9  11002.81]\n",
            " [11538.42 17539.69]\n",
            " [ 6338.08  8681.35]\n",
            " [ 7050.64  8349.04]\n",
            " [ 1137.47  3130.13]\n",
            " [ 8968.33 10445.84]\n",
            " [21984.47  3863.74]\n",
            " [ 6414.18  6944.63]\n",
            " [28287.9  15009.63]\n",
            " [13462.52 14441.6 ]\n",
            " [ 9722.77 12543.66]\n",
            " [40932.43 32958.73]\n",
            " [ 8026.67  9072.64]\n",
            " [ 8444.47  8986.86]\n",
            " [ 2203.47  3022.86]\n",
            " [ 6664.69  8164.97]\n",
            " [ 8606.22  9556.08]\n",
            " [ 8283.68 10743.2 ]\n",
            " [ 5375.04  7694.02]\n",
            " [ 3645.09  4373.44]\n",
            " [11674.13 14140.94]\n",
            " [11737.85  5811.79]\n",
            " [24873.38 34631.91]\n",
            " [33750.29 27009.11]\n",
            " [24180.93 33348.14]\n",
            " [ 9863.47  9532.97]\n",
            " [36837.47 30421.65]\n",
            " [17942.11 26648.91]\n",
            " [11856.41 15157.78]\n",
            " [39725.52 33895.76]\n",
            " [ 4349.46  6303.39]\n",
            " [11743.93 14059.15]\n",
            " [19749.38 10713.45]\n",
            " [12347.17 15089.36]\n",
            " [ 4931.65  4187.95]\n",
            " [30260.   13106.43]\n",
            " [27724.29  4336.2 ]\n",
            " [34672.15 28607.06]\n",
            " [ 9644.25  7243.57]\n",
            " [14394.4  14269.46]\n",
            " [12557.61 13282.37]\n",
            " [11881.36 12329.61]\n",
            " [ 2352.97  1851.87]\n",
            " [ 9101.8   8876.28]\n",
            " [17178.68 26089.18]\n",
            " [ 3994.18 10125.82]\n",
            " [40941.29 34218.77]\n",
            " [12644.59 14537.7 ]\n",
            " [22395.74  3232.08]\n",
            " [ 1149.4   5889.64]\n",
            " [ 3366.67  6558.46]\n",
            " [13143.34 14952.73]\n",
            " [18328.24 26943.84]\n",
            " [ 2690.11  3272.58]\n",
            " [12741.17 15795.19]\n",
            " [ 8765.25 11220.12]\n",
            " [10264.44 11132.68]\n",
            " [22192.44 10461.51]\n",
            " [ 2709.24  1520.18]\n",
            " [14571.89 25268.32]\n",
            " [60021.4  37555.43]\n",
            " [58571.07 33131.32]\n",
            " [ 1743.21  1986.54]\n",
            " [12479.71 11348.46]\n",
            " [13352.1  13683.62]\n",
            " [41034.22 34970.77]\n",
            " [ 2789.06  3194.05]\n",
            " [ 2867.12  3875.19]\n",
            " [11070.53 10355.84]\n",
            " [10493.95 10429.85]\n",
            " [ 3167.46   -74.18]\n",
            " [12269.69 14069.97]\n",
            " [10942.13 10335.95]\n",
            " [ 1977.82  3160.49]\n",
            " [39125.33 33495.55]\n",
            " [42112.24 33108.39]\n",
            " [ 7045.5   7159.04]\n",
            " [46200.99 37712.18]\n",
            " [10370.91 12860.02]\n",
            " [ 7749.16 10312.34]\n",
            " [20234.85 30118.39]\n",
            " [24106.91 33999.16]\n",
            " [13919.82 14744.36]\n",
            " [ 8871.15 10797.48]\n",
            " [ 1628.47   228.33]\n",
            " [ 9487.64 10550.26]\n",
            " [ 9861.02  9637.27]\n",
            " [12265.51 14963.63]\n",
            " [12235.84 14973.49]\n",
            " [ 6402.29  6077.53]\n",
            " [11356.66 13679.44]\n",
            " [15817.99 26048.62]\n",
            " [18259.22 28140.15]\n",
            " [34779.61 27428.45]\n",
            " [27037.91 35323.96]\n",
            " [18033.97 27120.17]\n",
            " [ 1737.38   635.73]\n",
            " [ 7441.05  9265.31]\n",
            " [ 2219.45  4700.18]\n",
            " [11286.54 12458.33]\n",
            " [ 4415.16  5334.04]\n",
            " [ 3981.98  4797.81]\n",
            " [ 1632.04  1053.29]\n",
            " [15555.19 18801.23]\n",
            " [12609.89  3268.22]\n",
            " [ 1253.94  1680.07]\n",
            " [ 6666.24 11731.46]\n",
            " [14254.61 12594.46]\n",
            " [19496.72 11876.25]\n",
            " [ 2261.57  3722.27]\n",
            " [ 8932.08  8907.39]\n",
            " [10736.87 13909.79]\n",
            " [ 5976.83  7727.28]\n",
            " [ 7147.1   6573.92]\n",
            " [43813.87 36668.28]\n",
            " [ 9563.03 12172.55]\n",
            " [13047.33 12246.48]\n",
            " [19362.   29298.7 ]\n",
            " [43896.38 36065.09]\n",
            " [ 7740.34 11635.07]\n",
            " [36307.8  28119.48]\n",
            " [ 1832.09  -420.52]\n",
            " [ 7144.86  8255.49]\n",
            " [38282.75 31611.57]\n",
            " [24603.05  8278.52]\n",
            " [ 1731.68  -682.92]\n",
            " [ 1632.56  1175.5 ]\n",
            " [ 1631.82  4610.52]\n",
            " [ 9991.04  7592.72]\n",
            " [ 7935.29 12602.75]\n",
            " [14043.48 14871.85]\n",
            " [ 5934.38  8696.27]\n",
            " [18972.49 28916.17]\n",
            " [14313.85 15712.13]\n",
            " [13607.37 14688.56]\n",
            " [10594.5  11117.34]\n",
            " [ 1719.44  1910.78]\n",
            " [ 7954.52 10065.51]\n",
            " [ 1727.54  3785.84]\n",
            " [ 6686.43  6165.86]\n",
            " [ 7152.67 11400.42]\n",
            " [ 3877.3   5505.08]\n",
            " [33471.97 14580.77]\n",
            " [11879.1  13691.36]\n",
            " [ 7804.16 12694.51]\n",
            " [ 5969.72  7023.42]\n",
            " [ 9964.06 12388.69]\n",
            " [ 9957.72 10922.09]\n",
            " [ 9447.38 10269.56]\n",
            " [ 1826.84  4543.27]\n",
            " [ 3704.35  5648.1 ]\n",
            " [49577.66 40390.99]\n",
            " [11946.63 13059.47]\n",
            " [ 2904.09  4308.67]\n",
            " [ 6128.8   8433.54]\n",
            " [ 1534.3   4680.92]\n",
            " [38709.18 32207.15]\n",
            " [10436.1  11261.1 ]\n",
            " [11073.18 10966.93]\n",
            " [ 5469.01  6893.83]\n",
            " [ 5152.13  6439.5 ]\n",
            " [ 3556.92  6698.81]\n",
            " [22412.65 33082.53]\n",
            " [25678.78 34892.67]\n",
            " [ 3353.47  2163.75]\n",
            " [ 6555.07  7664.1 ]\n",
            " [ 2416.95  5208.63]\n",
            " [14590.63 15537.44]\n",
            " [ 3732.63  1472.96]\n",
            " [ 5846.92 11431.39]\n",
            " [12731.   13442.52]\n",
            " [13616.36 11497.84]\n",
            " [ 8988.16 10547.85]\n",
            " [ 7650.77 13216.07]\n",
            " [ 3594.17  2392.93]\n",
            " [18246.5  27535.86]\n",
            " [ 2155.68  2350.29]\n",
            " [ 8569.86 14750.02]\n",
            " [ 7526.71  6294.49]\n",
            " [ 9222.4  10590.52]\n",
            " [14119.62 14975.55]\n",
            " [47269.85 38857.76]\n",
            " [ 3260.2   2100.49]\n",
            " [ 2709.11  1489.62]\n",
            " [ 6933.24  5170.63]\n",
            " [ 9264.8   7556.77]\n",
            " [ 7243.81  7905.81]\n",
            " [ 2134.9   4503.62]\n",
            " [11520.1  10680.79]\n",
            " [ 8233.1   8938.12]\n",
            " [ 6289.75  9389.71]\n",
            " [ 7371.77 11104.75]\n",
            " [12094.48 10325.32]\n",
            " [23563.02  9247.41]\n",
            " [ 6457.84  8075.55]\n",
            " [ 1615.77   895.79]\n",
            " [ 6600.21 10136.82]\n",
            " [ 7046.72  7306.73]\n",
            " [ 1984.45  6626.08]\n",
            " [11455.28 11706.85]\n",
            " [ 4137.52  5410.  ]\n",
            " [23244.79 32864.25]\n",
            " [17128.43  7088.39]\n",
            " [ 3987.93  6309.69]\n",
            " [ 4670.64  7934.1 ]\n",
            " [47291.06 38948.11]\n",
            " [10796.35 11941.19]\n",
            " [35595.59 28316.18]\n",
            " [ 1136.4   2882.48]\n",
            " [38998.55 33202.36]\n",
            " [ 2459.72  3690.61]\n",
            " [21195.82 31577.23]\n",
            " [12268.63 13825.54]\n",
            " [ 4827.9   2716.92]\n",
            " [ 1635.73  1908.8 ]\n",
            " [ 1969.61  1262.92]\n",
            " [ 4357.04  6109.41]\n",
            " [10795.94  4463.8 ]\n",
            " [17081.08 25580.06]\n",
            " [13887.97 15737.67]\n",
            " [ 3579.83  5345.85]\n",
            " [14001.29 13030.86]\n",
            " [47462.89 38954.05]\n",
            " [ 6753.04  4792.06]\n",
            " [12096.65 12711.43]\n",
            " [10214.64 11335.66]\n",
            " [17361.77 27785.54]\n",
            " [ 1639.56  2794.87]\n",
            " [ 8342.91 13392.79]\n",
            " [ 4074.45  5727.92]\n",
            " [ 8083.92 15215.44]\n",
            " [ 2026.97  5772.16]\n",
            " [31620.   16929.83]\n",
            " [ 1981.58  3896.74]\n",
            " [20781.49 12197.35]\n",
            " [24869.84 34682.24]\n",
            " [18806.15 10666.53]\n",
            " [ 8551.35 10601.36]\n",
            " [18218.16  4875.2 ]\n",
            " [14210.54 16734.59]\n",
            " [10959.69 14399.64]\n",
            " [ 4441.21  5497.3 ]\n",
            " [12142.58 11149.82]\n",
            " [10560.49 12497.7 ]\n",
            " [ 2897.32  4626.75]\n",
            " [ 2755.02  7169.33]\n",
            " [34617.84 27667.14]\n",
            " [22331.57 32240.55]\n",
            " [ 1625.43  -474.42]\n",
            " [48517.56 40306.05]\n",
            " [ 8219.2   9397.26]\n",
            " [ 6940.91  7750.27]\n",
            " [ 8240.59 10671.66]\n",
            " [40103.89 33555.18]\n",
            " [42983.46 35949.52]\n",
            " [44202.65 36650.47]\n",
            " [ 2136.88  4961.93]\n",
            " [ 5227.99  6116.92]]\n"
          ]
        }
      ]
    },
    {
      "cell_type": "code",
      "source": [
        "print(regressor.coef_)\n",
        "print(regressor.intercept_)"
      ],
      "metadata": {
        "colab": {
          "base_uri": "https://localhost:8080/"
        },
        "id": "ztFg7TqgIgz_",
        "outputId": "c03fdfd7-3764-4359-d385-650ed095a3d0"
      },
      "execution_count": 92,
      "outputs": [
        {
          "output_type": "stream",
          "name": "stdout",
          "text": [
            "[   121.08   -121.08 -11893.24  11893.24    584.38    188.28   -454.\n",
            "   -318.66    257.49    321.62    408.06]\n",
            "-109.81988139935493\n"
          ]
        }
      ]
    },
    {
      "cell_type": "code",
      "source": [
        "#  A female who is a smoker and of southeast with 32 age 23.23 bmi and 5 children\n",
        "print(regressor.predict([[1,0,0,1,0,0,1,0,32, 23.23, 5]]))"
      ],
      "metadata": {
        "colab": {
          "base_uri": "https://localhost:8080/"
        },
        "id": "uyV9tvp8PjUi",
        "outputId": "4a5e9031-baeb-46f5-d51b-1e0b9bd09e64"
      },
      "execution_count": 94,
      "outputs": [
        {
          "output_type": "stream",
          "name": "stdout",
          "text": [
            "[29201.77]\n"
          ]
        }
      ]
    }
  ]
}